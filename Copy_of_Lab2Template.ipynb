{
  "nbformat": 4,
  "nbformat_minor": 0,
  "metadata": {
    "colab": {
      "name": "Copy of Lab2Template.ipynb",
      "provenance": [],
      "include_colab_link": true
    },
    "kernelspec": {
      "name": "python3",
      "display_name": "Python 3"
    }
  },
  "cells": [
    {
      "cell_type": "markdown",
      "metadata": {
        "id": "view-in-github",
        "colab_type": "text"
      },
      "source": [
        "<a href=\"https://colab.research.google.com/github/txd5297/SRA268/blob/master/Copy_of_Lab2Template.ipynb\" target=\"_parent\"><img src=\"https://colab.research.google.com/assets/colab-badge.svg\" alt=\"Open In Colab\"/></a>"
      ]
    },
    {
      "cell_type": "markdown",
      "metadata": {
        "id": "6sOc4Uyr4U-Z",
        "colab_type": "text"
      },
      "source": [
        "## Graph Types"
      ]
    },
    {
      "cell_type": "markdown",
      "metadata": {
        "id": "0zZdVLAd5CYr",
        "colab_type": "text"
      },
      "source": [
        "Creator\n",
        "* Thomas Dolon"
      ]
    },
    {
      "cell_type": "markdown",
      "metadata": {
        "id": "YgXyXjmz7cDP",
        "colab_type": "text"
      },
      "source": [
        "### Correlation\n"
      ]
    },
    {
      "cell_type": "markdown",
      "metadata": {
        "colab_type": "text",
        "id": "Za_ty-Jyo1er"
      },
      "source": [
        "![Scatter plot showing correlation of Avg. Win and Lose Points](https://raw.githubusercontent.com/txd5297/SRA268/master/Spring2020/Correlation.png)\n",
        "\n"
      ]
    },
    {
      "cell_type": "markdown",
      "metadata": {
        "id": "dljjONNi7jmj",
        "colab_type": "text"
      },
      "source": [
        "#### What is this telling us?"
      ]
    },
    {
      "cell_type": "markdown",
      "metadata": {
        "id": "PwZEZrFB7laG",
        "colab_type": "text"
      },
      "source": [
        "The graph compares the average win points to the average lose points. The first thing to notice about this graph is that the average win points and lose points are about 10 points off from eachother. This trend keeps throughout the graph creating the positive correlation direction seen. This tells us that even though there are some high or lower scoring seasons, the distance between the winning points and losing points is somewhat constant. The average win points for the lowest scoring year and the highest scoring year are within 15 points of one another and the same can be said for the average lose points."
      ]
    },
    {
      "cell_type": "markdown",
      "metadata": {
        "id": "MqUdI-uL7r2s",
        "colab_type": "text"
      },
      "source": [
        "### Ranking\n"
      ]
    },
    {
      "cell_type": "markdown",
      "metadata": {
        "id": "AvlxCOVt7x9F",
        "colab_type": "text"
      },
      "source": [
        "![Ranked histogram showing Avg. winning points for each taxonmic class](https://raw.githubusercontent.com/txd5297/SRA268/master/Spring2020/Ranking2.png)"
      ]
    },
    {
      "cell_type": "markdown",
      "metadata": {
        "id": "lCAYtfza7yTq",
        "colab_type": "text"
      },
      "source": [
        "#### What is this telling us?"
      ]
    },
    {
      "cell_type": "markdown",
      "metadata": {
        "id": "MyuciD277ygU",
        "colab_type": "text"
      },
      "source": [
        "This graph shows us which taxonmic classes score the most points when they win games. Shockingly, the top three classes, including null, are within .31 of a point of eachother. They are so close that I felt the need to label them so that they may be distinguished from one another at all. Even the top five classes are within 3 points of eachother. This proves that there are not major differences in the Mascot Classes and where there are differences, it is likely due to low number of teams in the categories. The Arachnida in particular only had one team representing that class."
      ]
    },
    {
      "cell_type": "markdown",
      "metadata": {
        "id": "dGDGl8-G7y8Y",
        "colab_type": "text"
      },
      "source": [
        "### Distribution\n"
      ]
    },
    {
      "cell_type": "markdown",
      "metadata": {
        "id": "FB0uV-jy76p9",
        "colab_type": "text"
      },
      "source": [
        "![Histogram showing the deviation of Lose points in games](https://raw.githubusercontent.com/txd5297/SRA268/master/Spring2020/Distribution.png)"
      ]
    },
    {
      "cell_type": "markdown",
      "metadata": {
        "id": "_6SOzhrQ76zH",
        "colab_type": "text"
      },
      "source": [
        "#### What is this telling us?"
      ]
    },
    {
      "cell_type": "markdown",
      "metadata": {
        "id": "HBWqsS_g767h",
        "colab_type": "text"
      },
      "source": [
        "This graph is showing us the deviation of lose points for each game in the data set. The bins range from 25 to 115, going up in sizes of 5. Rather predictibly, each game's lose points follow a pretty close normal curve when compared to the entire data set. I am very surprised to see both 25 and 115 show up in this curve as those numbers seem rediculous for college basketball games. I would say both tail ends of this deviation are caused by particularly good or particularly bad defense and offense combinations."
      ]
    },
    {
      "cell_type": "markdown",
      "metadata": {
        "id": "wQsDThk677Fy",
        "colab_type": "text"
      },
      "source": [
        "### Change over Time\n"
      ]
    },
    {
      "cell_type": "markdown",
      "metadata": {
        "id": "Z1j_YLOA7_OK",
        "colab_type": "text"
      },
      "source": [
        "![line chart showing average win points by year, note that y-axis starts at 68 instead of 0](https://raw.githubusercontent.com/txd5297/SRA268/master/Spring2020/Change%20over%20Time.png)"
      ]
    },
    {
      "cell_type": "markdown",
      "metadata": {
        "id": "mpfsmmgi7_Vj",
        "colab_type": "text"
      },
      "source": [
        "#### What is this telling us?"
      ]
    },
    {
      "cell_type": "markdown",
      "metadata": {
        "id": "rYLXoMMO7_di",
        "colab_type": "text"
      },
      "source": [
        "This graph's y axis was made to start at 68 to highlight the otherwise difficult to read changes year to year. The data ranges from 68 points to about 85 points, I think that it is interesting that both the lowest and the highest points on the graph are within the first 5 years of the data. This graph could be telling us that around the mid 80s and other low points on the graph, teams either had better defenses or worse offenses. The same could be said vice versa for the high points on the graph."
      ]
    },
    {
      "cell_type": "markdown",
      "metadata": {
        "id": "lFwiHoE-7_jZ",
        "colab_type": "text"
      },
      "source": [
        "### Magnitude\n"
      ]
    },
    {
      "cell_type": "markdown",
      "metadata": {
        "id": "ICQFnXj78EbF",
        "colab_type": "text"
      },
      "source": [
        "![Average Win seed of taxonmic order](https://raw.githubusercontent.com/txd5297/SRA268/master/Spring2020/Magnitude.png)\n"
      ]
    },
    {
      "cell_type": "markdown",
      "metadata": {
        "id": "QGG7XYG88Eii",
        "colab_type": "text"
      },
      "source": [
        "#### What is this telling us?"
      ]
    },
    {
      "cell_type": "markdown",
      "metadata": {
        "id": "VS7uGa0l8Eos",
        "colab_type": "text"
      },
      "source": [
        "This graph shows us the average win seed for each taxonmic order. Once again I felt it was necessary to include the number of teams in each order to show how the data could be skewed. The data is in fact skewed because 3 of the bottom 4 orders, with the worst seed placements, only have 1 team in them. It is also interesting to see that the two of the three orders with the best seeds have 45 and 84 teams in them, this is quite impressive to have so many teams that regularly have high seeds."
      ]
    },
    {
      "cell_type": "markdown",
      "metadata": {
        "id": "bEKFxP8R8Evk",
        "colab_type": "text"
      },
      "source": [
        "### Part-to-Whole\n"
      ]
    },
    {
      "cell_type": "markdown",
      "metadata": {
        "id": "WFHlcYKV8E35",
        "colab_type": "text"
      },
      "source": [
        "![Treemap showing which teams are responsible for the most win points](https://raw.githubusercontent.com/txd5297/SRA268/master/Spring2020/Part%20of%20hole.png)"
      ]
    },
    {
      "cell_type": "markdown",
      "metadata": {
        "id": "PNSd3wlp8UZH",
        "colab_type": "text"
      },
      "source": [
        "#### What is this telling us?"
      ]
    },
    {
      "cell_type": "markdown",
      "metadata": {
        "id": "y9tb_QRA8aqt",
        "colab_type": "text"
      },
      "source": [
        "This graph labels how the top teams add to the total sum of win points. It does not label the teams that do not contribute as much becuase there are too many of them. This graph shows, while not surprisingly, that North Carolina, Duke, Kansas and Kentucky have contributed the most to the total sum of win points in the data set. Another thing this graph shows is how many teams appear to barely contribute, this is likely because many teams don't consitantly make the tournament ever year. As far as the labeled teams go, Pennsylvania is representing pretty well by having three of its universities be labeled on the graph. "
      ]
    }
  ]
}
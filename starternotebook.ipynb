{
  "nbformat": 4,
  "nbformat_minor": 0,
  "metadata": {
    "colab": {
      "name": "starternotebook.ipynb",
      "provenance": [],
      "toc_visible": true,
      "authorship_tag": "ABX9TyMfSKwLLSt4qE/oMF/Zp32v",
      "include_colab_link": true
    },
    "kernelspec": {
      "name": "python3",
      "display_name": "Python 3"
    }
  },
  "cells": [
    {
      "cell_type": "markdown",
      "metadata": {
        "id": "view-in-github",
        "colab_type": "text"
      },
      "source": [
        "<a href=\"https://colab.research.google.com/github/txd5297/SRA268/blob/master/starternotebook.ipynb\" target=\"_parent\"><img src=\"https://colab.research.google.com/assets/colab-badge.svg\" alt=\"Open In Colab\"/></a>"
      ]
    },
    {
      "cell_type": "code",
      "metadata": {
        "id": "RC9-S5U34r_T",
        "colab_type": "code",
        "colab": {}
      },
      "source": [
        "#big\n"
      ],
      "execution_count": 0,
      "outputs": []
    },
    {
      "cell_type": "markdown",
      "metadata": {
        "id": "k8aowl_i6fLu",
        "colab_type": "text"
      },
      "source": [
        "#big"
      ]
    },
    {
      "cell_type": "markdown",
      "metadata": {
        "id": "LBQcDoZ46i9t",
        "colab_type": "text"
      },
      "source": [
        "![ehhh](https://github.com/txd5297/SRA268/blob/master/Spring2020/beezos.jpg)"
      ]
    },
    {
      "cell_type": "markdown",
      "metadata": {
        "id": "49uV4i6_7lC9",
        "colab_type": "text"
      },
      "source": [
        ""
      ]
    }
  ]
}
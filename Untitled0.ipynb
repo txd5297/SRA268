{
  "nbformat": 4,
  "nbformat_minor": 0,
  "metadata": {
    "colab": {
      "name": "Untitled0.ipynb",
      "provenance": [],
      "authorship_tag": "ABX9TyNoRmYHjJm+apLKJnT5mkO8",
      "include_colab_link": true
    },
    "kernelspec": {
      "name": "python3",
      "display_name": "Python 3"
    }
  },
  "cells": [
    {
      "cell_type": "markdown",
      "metadata": {
        "id": "view-in-github",
        "colab_type": "text"
      },
      "source": [
        "<a href=\"https://colab.research.google.com/github/txd5297/SRA268/blob/master/Untitled0.ipynb\" target=\"_parent\"><img src=\"https://colab.research.google.com/assets/colab-badge.svg\" alt=\"Open In Colab\"/></a>"
      ]
    },
    {
      "cell_type": "code",
      "metadata": {
        "id": "1QsztAevjExe",
        "colab_type": "code",
        "colab": {}
      },
      "source": [
        ""
      ],
      "execution_count": 0,
      "outputs": []
    },
    {
      "cell_type": "markdown",
      "metadata": {
        "id": "C5jpjBc8pwAA",
        "colab_type": "text"
      },
      "source": [
        "###Transition from Winter to Spring\n"
      ]
    },
    {
      "cell_type": "markdown",
      "metadata": {
        "id": "dHOXfooUqEYS",
        "colab_type": "text"
      },
      "source": [
        "###Outline\n",
        "I would like to examine the temperature transition that takes place from winter to spring by looking at the data from a base year, 2017. My goal is to predict when it would be reasonable to put the winter coats away, in preparation for the rain jacket weather. I will say that a winter coat is still necessary until the TMIN is consistently above 35F\n"
      ]
    },
    {
      "cell_type": "markdown",
      "metadata": {
        "id": "AR7EAKsbz0XD",
        "colab_type": "text"
      },
      "source": [
        "![My Graph](https://raw.githubusercontent.com/txd5297/SRA268/master/Spring2020/DolonGraph.jpg)"
      ]
    },
    {
      "cell_type": "markdown",
      "metadata": {
        "id": "OREcW9520b9U",
        "colab_type": "text"
      },
      "source": [
        "###Conclusion\n",
        "Using my parameters, it appears winter coats are no longer needed after the month of April, and only slightly needed during April. This graph does not take into account any single days after April that have a TMIN below 35F because there are not enough of them to warrant still needing a coat."
      ]
    }
  ]
}